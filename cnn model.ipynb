{
 "cells": [
  {
   "cell_type": "code",
   "execution_count": 1,
   "id": "3a947494",
   "metadata": {},
   "outputs": [],
   "source": [
    "import warnings\n",
    "warnings.simplefilter('ignore')"
   ]
  },
  {
   "cell_type": "code",
   "execution_count": 2,
   "id": "1a7f95fa",
   "metadata": {},
   "outputs": [],
   "source": [
    "import numpy as np\n",
    "import matplotlib.pyplot as plt\n",
    "import pandas as pd"
   ]
  },
  {
   "cell_type": "code",
   "execution_count": null,
   "id": "94d864b3",
   "metadata": {},
   "outputs": [],
   "source": [
    "names = ['Sequence', 'Label']\n",
    "output = pd.read_csv(dna, names = names)"
   ]
  },
  {
   "cell_type": "code",
   "execution_count": null,
   "id": "fcef42bf",
   "metadata": {},
   "outputs": [],
   "source": [
    "output.columns\n",
    "len(labels)\n"
   ]
  },
  {
   "cell_type": "code",
   "execution_count": null,
   "id": "c79be6e5",
   "metadata": {},
   "outputs": [],
   "source": [
    "# output= pd.read_csv(dna)"
   ]
  },
  {
   "cell_type": "code",
   "execution_count": null,
   "id": "73b92091",
   "metadata": {},
   "outputs": [],
   "source": [
    "sequence = output['Sequence'].values.tolist()[1:]\n",
    "for label in sequence:\n",
    "    print(sequence)"
   ]
  },
  {
   "cell_type": "code",
   "execution_count": null,
   "id": "28921ec4",
   "metadata": {},
   "outputs": [],
   "source": [
    "# labels = output['Label'].values.tolist()[1:]\n",
    "# for label in labels:\n",
    "#     print(label)\n"
   ]
  },
  {
   "cell_type": "code",
   "execution_count": null,
   "id": "595f70cb",
   "metadata": {},
   "outputs": [],
   "source": [
    "print(len(all_sequences))\n",
    "print(len(all_labels))"
   ]
  },
  {
   "cell_type": "code",
   "execution_count": null,
   "id": "89d8959f",
   "metadata": {
    "scrolled": true
   },
   "outputs": [],
   "source": [
    "output.head()"
   ]
  },
  {
   "cell_type": "code",
   "execution_count": null,
   "id": "13bf77f0",
   "metadata": {},
   "outputs": [],
   "source": [
    "import pandas as pd\n",
    "import random\n",
    "\n",
    "# Read the CSV file into a DataFrame\n",
    "dna = pd.read_csv('merged_sequences.csv')\n",
    "\n",
    "# Shuffle the rows of the DataFrame\n",
    "indices = list(range(len(output)))\n",
    "random.shuffle(indices)\n",
    "\n",
    "data=output.iloc[indices]\n",
    "# Save the shuffled DataFrame as CSV\n",
    "data.to_csv('data1.csv', index=False)\n"
   ]
  },
  {
   "cell_type": "code",
   "execution_count": null,
   "id": "bb11c9da",
   "metadata": {},
   "outputs": [],
   "source": [
    "print(data)"
   ]
  },
  {
   "cell_type": "code",
   "execution_count": null,
   "id": "86cdffb4",
   "metadata": {},
   "outputs": [],
   "source": [
    "data.columns"
   ]
  },
  {
   "cell_type": "code",
   "execution_count": null,
   "id": "3e5b014f",
   "metadata": {},
   "outputs": [],
   "source": [
    "data.head()"
   ]
  },
  {
   "cell_type": "code",
   "execution_count": null,
   "id": "3ae6101e",
   "metadata": {},
   "outputs": [],
   "source": [
    "data.shape"
   ]
  },
  {
   "cell_type": "code",
   "execution_count": null,
   "id": "eb28e997",
   "metadata": {},
   "outputs": [],
   "source": [
    "data.dtypes"
   ]
  },
  {
   "cell_type": "code",
   "execution_count": null,
   "id": "7326d711",
   "metadata": {},
   "outputs": [],
   "source": [
    "sequence = list(data.loc[1:, 'Sequence'])\n",
    "sequence"
   ]
  },
  {
   "cell_type": "code",
   "execution_count": null,
   "id": "6b7c607e",
   "metadata": {},
   "outputs": [],
   "source": [
    "print(len(sequence))"
   ]
  },
  {
   "cell_type": "code",
   "execution_count": null,
   "id": "4f0ce48d",
   "metadata": {},
   "outputs": [],
   "source": [
    "# sequence = data['Sequence'].values.tolist()[1:]\n",
    "# for sequence in sequence:\n",
    "#     print(sequence)"
   ]
  },
  {
   "cell_type": "code",
   "execution_count": null,
   "id": "27fcbf4f",
   "metadata": {},
   "outputs": [],
   "source": [
    "labels = list(data.loc[1:, 'Label'])\n",
    "labels"
   ]
  },
  {
   "cell_type": "code",
   "execution_count": null,
   "id": "065130fd",
   "metadata": {},
   "outputs": [],
   "source": [
    "print(len(labels))"
   ]
  },
  {
   "cell_type": "code",
   "execution_count": null,
   "id": "268fa68e",
   "metadata": {},
   "outputs": [],
   "source": [
    "# dic = {}\n",
    "# for i, seq in enumerate(sequence):\n",
    "#     nucleotides = list(seq)\n",
    "#     nucleotides = [char for char in nucleotides if char != '\\t']\n",
    "#     #append class assignment\n",
    "#     nucleotides.append(labels[i])\n",
    "    \n",
    "#     dic[i] = nucleotides\n",
    "# dic[0]    "
   ]
  },
  {
   "cell_type": "code",
   "execution_count": null,
   "id": "6575f021",
   "metadata": {},
   "outputs": [],
   "source": [
    "# df = pd.DataFrame(dic)\n",
    "# df.head()"
   ]
  },
  {
   "cell_type": "code",
   "execution_count": null,
   "id": "e5e21198",
   "metadata": {},
   "outputs": [],
   "source": [
    "import pandas as pd\n",
    "\n",
    "# Assuming sequences is a list of DNA sequences of different lengths\n",
    "sequence = list(data.loc[1:, 'Sequence'])\n",
    "\n",
    "# Append 0 to the sequences\n",
    "aligned_sequences = [seq + '0' for seq in sequence]\n",
    "\n",
    "# Create a DataFrame with the aligned sequences\n",
    "df = pd.DataFrame(aligned_sequences)\n",
    "\n",
    "# Optionally, you can provide column names if needed\n",
    "df.columns = ['Sequence']\n",
    "\n",
    "# Display the DataFrame\n",
    "df.head()\n",
    "df.shape"
   ]
  },
  {
   "cell_type": "code",
   "execution_count": null,
   "id": "d965024f",
   "metadata": {},
   "outputs": [],
   "source": [
    "sequence"
   ]
  },
  {
   "cell_type": "code",
   "execution_count": null,
   "id": "943cf8d3",
   "metadata": {},
   "outputs": [],
   "source": [
    "df = pd.DataFrame({'Sequence': sequence})"
   ]
  },
  {
   "cell_type": "code",
   "execution_count": null,
   "id": "2fab9f71",
   "metadata": {},
   "outputs": [],
   "source": [
    "df.head()\n"
   ]
  },
  {
   "cell_type": "code",
   "execution_count": null,
   "id": "57bc070e",
   "metadata": {},
   "outputs": [],
   "source": [
    "pip install tensorflow"
   ]
  },
  {
   "cell_type": "code",
   "execution_count": null,
   "id": "97133fed",
   "metadata": {},
   "outputs": [],
   "source": [
    "# import numpy as np\n",
    "# from tensorflow.keras.preprocessing.sequence import pad_sequences\n",
    "\n",
    "# # Convert DNA sequences to integer representation\n",
    "# integer_sequences = []\n",
    "# for seq in sequence:\n",
    "#     integer_seq = [ord(base) for base in seq]\n",
    "#     integer_sequences.append(integer_seq)\n",
    "\n",
    "# # Pad or truncate sequences to a fixed length\n",
    "# max_length = max(len(seq) for seq in integer_sequences)\n",
    "# padded_sequences = pad_sequences(integer_sequences, maxlen=max_length, padding='post', truncating='post')\n",
    "\n"
   ]
  },
  {
   "cell_type": "code",
   "execution_count": null,
   "id": "cbc10ddf",
   "metadata": {},
   "outputs": [],
   "source": [
    "from tensorflow.keras.preprocessing.sequence import pad_sequences\n",
    "import numpy as np\n",
    "\n",
    "# # # Assuming you have a list of DNA sequences called 'sequences'\n",
    "# sequence = list(data.loc[1:, 'Sequence'])  # Your list of sequences\n",
    "\n",
    "# # Convert sequences to list of lists format\n",
    "# sequences_list = [list(seq) for seq in sequence]\n",
    "\n",
    "# Find the maximum length of the sequences\n",
    "max_length = max(len(seq) for seq in all_sequences)\n",
    "\n",
    "# Pad or truncate sequences to the maximum length\n",
    "padded_sequences = pad_sequences(all_sequences, maxlen=max_length, padding='post', truncating='post', value='N', dtype=object)\n",
    "\n",
    "# Convert padded_sequences to a numpy array\n",
    "padded_sequences = np.array(padded_sequences)\n",
    "\n",
    "# Print the shape of the padded_sequences array\n",
    "print(\"Shape of padded_sequences:\", padded_sequences.shape)\n"
   ]
  },
  {
   "cell_type": "code",
   "execution_count": null,
   "id": "63573e0e",
   "metadata": {},
   "outputs": [],
   "source": [
    "# Example usage with flattened sequences\n",
    "flattened_sequences = onehot_sequence.reshape(onehot_sequences.shape[0], -1)\n",
    "# Pass the flattened_sequences to the classification model\n"
   ]
  },
  {
   "cell_type": "code",
   "execution_count": null,
   "id": "c048ae18",
   "metadata": {},
   "outputs": [],
   "source": [
    "import pandas as pd\n",
    "import numpy as np\n",
    "\n",
    "def dna_to_onehot(all_sequences):\n",
    "    mapping = {'A': [1, 0, 0, 0], 'C': [0, 1, 0, 0], 'G': [0, 0, 1, 0], 'T': [0, 0, 0, 1]}\n",
    "    onehot_sequence = np.array([mapping.get(base, [0, 0, 0, 0]) for base in sequence])\n",
    "    return onehot_sequence\n",
    "\n",
    "# Read the CSV file\n",
    "df = pd.read_csv('data.csv')\n",
    "\n",
    "# Apply one-hot encoding to the DNA sequences\n",
    "df['OneHotSequence'] = df['Sequence'].apply(dna_to_onehot)\n",
    "\n",
    "# Write the encoded sequences back to the CSV file\n",
    "df.to_csv('output.csv', index=False)\n"
   ]
  },
  {
   "cell_type": "code",
   "execution_count": null,
   "id": "cdecdb32",
   "metadata": {},
   "outputs": [],
   "source": [
    "\n",
    "max(all_sequences)\n",
    "len(max(all_sequences))"
   ]
  },
  {
   "cell_type": "code",
   "execution_count": null,
   "id": "a1c69df4",
   "metadata": {},
   "outputs": [],
   "source": [
    "min(all_sequences)\n"
   ]
  },
  {
   "cell_type": "code",
   "execution_count": null,
   "id": "0a4fc469",
   "metadata": {},
   "outputs": [],
   "source": [
    "len(min(all_sequences))\n",
    "\n"
   ]
  },
  {
   "cell_type": "code",
   "execution_count": null,
   "id": "acf328b8",
   "metadata": {},
   "outputs": [],
   "source": [
    "print(len(sequence))  # Check the length of onehot_sequences\n",
    "print(len(y))  # Check the length of y\n"
   ]
  },
  {
   "cell_type": "code",
   "execution_count": null,
   "id": "020b910c",
   "metadata": {},
   "outputs": [],
   "source": [
    "\n",
    "from tensorflow.keras.preprocessing.sequence import pad_sequences\n",
    "import numpy as np\n",
    "\n",
    "# Assuming you have a list of DNA sequences called 'sequences'\n",
    "sequences = [\n",
    "    \"ATCG\",\n",
    "    \"ACGTAC\",\n",
    "    \"GTC\",\n",
    "    \"ACGTAGTACGT\",\n",
    "]\n",
    "\n",
    "# Find the maximum length of the sequences\n",
    "max_length = max(len(seq) for seq in sequences)\n",
    "\n",
    "# Pad sequences to the maximum length\n",
    "padded_sequences = pad_sequences(sequences, maxlen=max_length, padding='post', truncating='post', value='N', dtype=object)\n",
    "\n",
    "# Convert padded_sequences to a numpy array\n",
    "padded_sequences = np.array(padded_sequences)\n",
    "\n",
    "# Print the original sequences and the padded sequences\n",
    "for original_seq, padded_seq in zip(sequences, padded_sequences):\n",
    "    print(\"Original:\", original_seq)\n",
    "    print(\"Padded  :\", \"\".join(padded_seq))\n",
    "    print()\n",
    "\n",
    "# Print the shape of the padded_sequences array\n",
    "print(\"Shape of padded_sequences:\", padded_sequences.shape)\n"
   ]
  },
  {
   "cell_type": "code",
   "execution_count": 2,
   "id": "b8a76bb1",
   "metadata": {},
   "outputs": [
    {
     "name": "stdout",
     "output_type": "stream",
     "text": [
      "Merged DataFrame:\n",
      "                                              Sequence      Label\n",
      "0    [4, 2, 2, 1, 1, 3, 2, 1, 4, 1, 2, 3, 4, 1, 1, ...       mers\n",
      "1    [2, 1, 3, 4, 4, 4, 4, 1, 2, 1, 4, 1, 1, 2, 1, ...  hepatitis\n",
      "2    [2, 1, 3, 4, 4, 4, 4, 1, 2, 1, 4, 1, 1, 2, 1, ...  hepatitis\n",
      "3    [2, 4, 1, 1, 1, 4, 3, 2, 1, 4, 1, 4, 1, 1, 3, ...  sars-cov2\n",
      "4    [1, 2, 4, 1, 3, 2, 1, 4, 4, 2, 2, 2, 2, 1, 3, ...  influenza\n",
      "..                                                 ...        ...\n",
      "495  [2, 2, 3, 3, 1, 1, 1, 2, 1, 2, 4, 4, 1, 1, 4, ...  sars-cov2\n",
      "496  [2, 4, 2, 2, 2, 3, 2, 4, 2, 3, 2, 1, 1, 4, 1, ...     dengue\n",
      "497  [2, 1, 3, 4, 4, 4, 4, 1, 2, 1, 4, 1, 1, 2, 1, ...  hepatitis\n",
      "498  [4, 2, 4, 1, 1, 2, 1, 2, 2, 4, 2, 1, 1, 2, 4, ...       mers\n",
      "499  [1, 1, 3, 2, 1, 4, 1, 2, 3, 4, 1, 1, 4, 4, 4, ...       mers\n",
      "\n",
      "[500 rows x 2 columns]\n",
      "Sequences and labels merged and saved to merged_sequences.csv successfully.\n"
     ]
    }
   ],
   "source": [
    "\n",
    "import pandas as pd\n",
    "import numpy as np\n",
    "from Bio import SeqIO\n",
    "from sklearn.utils import shuffle\n",
    "from tensorflow.keras.preprocessing.sequence import pad_sequences\n",
    "from tensorflow.keras.preprocessing.text import Tokenizer\n",
    "\n",
    "def read_fasta_sequences(file_paths, labels):\n",
    "    all_sequences = []\n",
    "    all_labels = []\n",
    "    for file_path, label in zip(file_paths, labels):\n",
    "        sequences = []\n",
    "        for record in SeqIO.parse(file_path, \"fasta\"):\n",
    "            sequence = str(record.seq)\n",
    "            sequences.append(sequence)\n",
    "        all_sequences.extend(sequences)\n",
    "        all_labels.extend([label] * len(sequences))\n",
    "    return all_sequences, all_labels\n",
    "\n",
    "# Specify the file paths of the FASTA files\n",
    "file_paths = [\"mers1.fasta\", \"mers2.fasta\", \"mers3.fasta\",\"sars cov2 1.fasta\", \"dengue virus1.fasta\", \"influenzaA.fasta\", \"hepatitis B.fasta\"]\n",
    "\n",
    "# Specify the labels for each file\n",
    "labels = [\"mers\", \"mers\", \"mers\",\"sars-cov2\", \"dengue\", \"influenza\", \"hepatitis\"]\n",
    "\n",
    "# Call the function to read the sequences and labels\n",
    "all_sequences, all_labels = read_fasta_sequences(file_paths, labels)\n",
    "\n",
    "# Shuffle the sequences and labels\n",
    "all_sequences, all_labels = shuffle(all_sequences, all_labels)\n",
    "\n",
    "# Convert sequences to numerical representation\n",
    "tokenizer = Tokenizer(char_level=True)\n",
    "tokenizer.fit_on_texts(all_sequences)\n",
    "sequences_numeric = tokenizer.texts_to_sequences(all_sequences)\n",
    "\n",
    "# Pad sequences to a fixed length\n",
    "max_length = 3000  # Maximum sequence length to pad\n",
    "sequences_padded = pad_sequences(sequences_numeric, maxlen=max_length, padding='post', truncating='post')\n",
    "\n",
    "# Merge sequences and labels into a DataFrame\n",
    "df = pd.DataFrame({\"Sequence\": sequences_padded.tolist(), \"Label\": all_labels})\n",
    "\n",
    "# Print the DataFrame\n",
    "print(\"Merged DataFrame:\")\n",
    "print(df)\n",
    "\n",
    "# Specify the output CSV file path\n",
    "dna = \"merged_sequences.csv\"\n",
    "\n",
    "# Save the DataFrame as CSV\n",
    "df.to_csv(dna, index=False)\n",
    "\n",
    "print(f\"Sequences and labels merged and saved to {dna} successfully.\")\n",
    "# print(all_sequences.head)"
   ]
  },
  {
   "cell_type": "code",
   "execution_count": 48,
   "id": "17bfabcf",
   "metadata": {},
   "outputs": [
    {
     "data": {
      "image/png": "[encoded data removed]",
      "text/plain": [
       "<Figure size 1000x800 with 1 Axes>"
      ]
     },
     "metadata": {},
     "output_type": "display_data"
    }
   ],
   "source": [
    "import matplotlib.pyplot as plt\n",
    "\n",
    "# Model names\n",
    "labels = ['mers', 'sars-cov2', 'dengue', 'influenzaA', 'hepatitis']\n",
    "\n",
    "# Create a bar graph\n",
    "plt.figure(figsize=(10, 8))  # Set the figure size\n",
    "plt.bar(labels, [100, 100, 100, 100, 100])  # Replace the list with your data\n",
    "\n",
    "# Change the font size of the model names (x-axis labels)\n",
    "plt.xticks(labels, fontsize=13, rotation=45)  # Set font size for x-axis labels (model names) and rotate them if needed\n",
    "plt.xlabel(\"Virus\", fontsize=15)\n",
    "plt.ylabel(\"Number of Samples\", fontsize=15)\n",
    "plt.title(\"Number of Samples for Each Virus\", fontsize=18)\n",
    "\n",
    "# Save the graph as an image (e.g., JPG format)\n",
    "plt.savefig('my_plot.jpg')\n",
    "plt.show()\n",
    "\n"
   ]
  },
  {
   "cell_type": "code",
   "execution_count": null,
   "id": "f03f1d00",
   "metadata": {},
   "outputs": [],
   "source": [
    "print(all_sequences[:3])"
   ]
  },
  {
   "cell_type": "code",
   "execution_count": null,
   "id": "22482eef",
   "metadata": {},
   "outputs": [],
   "source": [
    "pip install tensorflow pandas numpy biopython scikit-learn\n"
   ]
  },
  {
   "cell_type": "code",
   "execution_count": null,
   "id": "a8f7759f",
   "metadata": {
    "scrolled": false
   },
   "outputs": [],
   "source": [
    "import pandas as pd\n",
    "import numpy as np\n",
    "from Bio import SeqIO\n",
    "from sklearn.utils import shuffle\n",
    "from sklearn.model_selection import train_test_split\n",
    "from tensorflow.keras.preprocessing.sequence import pad_sequences\n",
    "from tensorflow.keras.preprocessing.text import Tokenizer\n",
    "from tensorflow.keras.models import Sequential\n",
    "from tensorflow.keras.layers import Embedding, Conv1D, MaxPooling1D, Flatten, Dense\n",
    "\n",
    "# from sklearn.utils.class_weight import compute_class_weight\n",
    "\n",
    "# Split the data into train and test sets\n",
    "train_sequences, test_sequences, train_labels, test_labels = train_test_split(\n",
    "    sequences_padded, all_labels, test_size=0.2, random_state=42\n",
    ")\n",
    "\n",
    "# Convert labels to numerical representation\n",
    "label_to_id = {label: idx for idx, label in enumerate(set(all_labels))}\n",
    "train_labels = [label_to_id[label] for label in train_labels]\n",
    "test_labels = [label_to_id[label] for label in test_labels]\n",
    "\n",
    "# class_counts = np.bincount(train_labels)\n",
    "# total_samples = len(train_labels)\n",
    "# class_weights = total_samples / (len(class_counts) * class_counts)\n",
    "# class_weight_dict = {i: weight for i, weight in enumerate(class_weights)}\n",
    "\n",
    "\n",
    "# Create the CNN model\n",
    "vocab_size = len(tokenizer.word_index) + 1\n",
    "embedding_dim = 16\n",
    "cnn_filters = 32\n",
    "cnn_kernel_size = 3\n",
    "max_length = 3000\n",
    "\n",
    "model = Sequential()\n",
    "model.add(Embedding(input_dim=vocab_size, output_dim=embedding_dim, input_length=max_length))\n",
    "model.add(Conv1D(filters=cnn_filters, kernel_size=cnn_kernel_size, activation='relu'))\n",
    "model.add(MaxPooling1D())\n",
    "model.add(Flatten())\n",
    "model.add(Dense(64, activation='relu'))\n",
    "model.add(Dense(len(label_to_id), activation='softmax'))\n",
    "\n",
    "model.compile(loss='sparse_categorical_crossentropy', optimizer='adam', metrics=['accuracy'])\n",
    "\n",
    "# Train the model\n",
    "batch_size = 64\n",
    "epochs = 10\n",
    "model.fit(train_sequences, np.array(train_labels), batch_size=batch_size, epochs=epochs)\n",
    "\n",
    "# Evaluate the model on the test set\n",
    "\n",
    "loss, accuracy = model.evaluate(test_sequences, np.array(test_labels))\n",
    "print(f'Test accuracy method 1: {accuracy:.4f}')\n"
   ]
  },
  {
   "cell_type": "code",
   "execution_count": null,
   "id": "19aa5ee8",
   "metadata": {},
   "outputs": [],
   "source": [
    "print(train_sequences)"
   ]
  },
  {
   "cell_type": "code",
   "execution_count": null,
   "id": "808f81e2",
   "metadata": {},
   "outputs": [],
   "source": [
    "print(all_sequences)"
   ]
  },
  {
   "cell_type": "code",
   "execution_count": null,
   "id": "7ba2fddd",
   "metadata": {},
   "outputs": [],
   "source": [
    "import pandas as pd\n",
    "import numpy as np\n",
    "from Bio import SeqIO\n",
    "from sklearn.utils import shuffle\n",
    "from sklearn.model_selection import train_test_split\n",
    "from tensorflow.keras.preprocessing.sequence import pad_sequences\n",
    "from tensorflow.keras.preprocessing.text import Tokenizer\n",
    "from tensorflow.keras.models import Sequential\n",
    "from tensorflow.keras.layers import Embedding, Bidirectional, LSTM, Dense\n",
    "\n",
    "# ... (The previous code for reading sequences and labels)\n",
    "\n",
    "# Split the data into train and test sets\n",
    "train_sequences, test_sequences, train_labels, test_labels = train_test_split(\n",
    "    sequences_padded, all_labels, test_size=0.1, random_state=42\n",
    ")\n",
    "\n",
    "# Convert labels to numerical representation\n",
    "label_to_id = {label: idx for idx, label in enumerate(set(all_labels))}\n",
    "train_labels = [label_to_id[label] for label in train_labels]\n",
    "test_labels = [label_to_id[label] for label in test_labels]\n",
    "\n",
    "# Create the Bidirectional LSTM model\n",
    "vocab_size = len(tokenizer.word_index) + 1\n",
    "embedding_dim = 16\n",
    "lstm_units = 64\n",
    "max_length = 3000\n",
    "\n",
    "model = Sequential()\n",
    "model.add(Embedding(input_dim=vocab_size, output_dim=embedding_dim, input_length=max_length))\n",
    "model.add(Bidirectional(LSTM(units=lstm_units)))\n",
    "model.add(Dense(len(label_to_id), activation='relu'))\n",
    "\n",
    "model.compile(loss='sparse_categorical_crossentropy', optimizer='adam', metrics=['accuracy'])\n",
    "\n",
    "# Train the model\n",
    "batch_size = 64\n",
    "epochs = 10\n",
    "model.fit(train_sequences, np.array(train_labels), batch_size=batch_size, epochs=epochs, validation_split=0.2)\n",
    "\n",
    "# Evaluate the model on the test set\n",
    "loss, accuracy_method1 = model.evaluate(test_sequences, np.array(test_labels))\n",
    "print(\"Test Accuracy method 1:\", accuracy_method1)\n"
   ]
  },
  {
   "cell_type": "code",
   "execution_count": null,
   "id": "51412597",
   "metadata": {},
   "outputs": [],
   "source": [
    "\n",
    "\n",
    "id_to_label = {idx: label for label, idx in label_to_id.items()}\n",
    "def preprocess_input_sequence(input_sequence, tokenizer, max_length):\n",
    "    # Convert the input sequence to numerical representation using the tokenizer\n",
    "    sequence_numeric = tokenizer.texts_to_sequences([input_sequence])\n",
    "\n",
    "    # Pad the sequence to a fixed length\n",
    "    sequence_padded = pad_sequences(sequence_numeric, maxlen=max_length, padding='post', truncating='post')\n",
    "\n",
    "    return sequence_padded\n",
    "\n",
    "# Example input sequence\n",
    "input_sequence = \"CAGTAAACCCTGTTCCGACTACTGTCTCTCACATATCGTCAATCTTCTCGAGGATTGGGGACCCTGCGCTGAACATGGAGAACATCACATCAGGATTCCTAGGACCCCTGCTCGTGTTACAGGCGGGGTTTTTCTTGTTGACAAGAATCCTCACAATACCGCAGAGTCTAGACTCGTGGTGGACTTCTCTCAATTTTCCCCGGGGAACTACCGTGTGTCTTGGCCAAAATTCGCAGTCCCCAACCTCCAATCACTCACCAACCAACTGTCCTCCAACTTGTCCTGGTTATCGCTGGATGTGTCTGCGGCGTTTTATCATCTTCCTCTTCATCCTGCTGCTATGCCTCATCTTCTTGTTGGTTCTTCTGGACTATCAAGGTATGTTGCCCGTTTGTCCTCTAATTCCAGGATCTTCAACTACCAGCACGGGACCATGCAGAACCTGCACGACTCCTGCTCAAGGAACCTCTATGTATCCCTCCTGTTGCTGTACCAAACCTTCGGACGGAAATTGCACCTGTATTCCCATCCCATCATCCTGGGCTTTCGGAAAATTCCTATGGGAGTGGGCCTCAGCCCGTTGGGCCTGGCTCAGTTTACTAGTGCCATTTGTTCAGTGGTTCGTAGGGCTTTCCCCCACTGTTTGGCTTTCAGTTATATGGATGATGTGGTATTGGGGGCCAAGTCTGTACAGCATCTTGAGTCCCTTTTTACCGCTGTCTGAATCCTGCGGACGACCCTTCTCGGGGCCGCTTGGGACTCTCTCGTCCCCTTCTCCGTCTGCCGTTTCGACCGACCACGCTATGTCATTGGATGTTATGGGTCATTGCCACAAGATCACATCATACAGAAAATCAAAGAATGTTTTAGAAAACTTCCTGTTAACAGGCCTATTGATTGGAAAGTCTGTCAACGTATTGTGGGTCTTTTGGGTTTTGCTGCCCCTTTTACACAATGTGGTTATCCTGCTTTAATGCCCTTGTATGCATGTATTCAGTCTAAGCAGGCTTTCACTTTCTCGCCAACTTACAAGGCCTTTTTGTGTAAACAATACCTGAACCTTTACCCCGTTGAACGGCAACGGCCAGGTCTGTGCCAAGTGTTTGCTGACGCAACCCCCACTGGCTGGGGCTTGGTCATGGGCCATCAGCGCATGCGTGGAACCTTTCAGGCTCCTCTGCCGATCCATACTGCGGAACTCCTAGCCGCTTGTTTTGCTCGCAGCAGGCCCGGAGCAAACATTCTCGGGACGGATAACTCTGTTGTTCTCTCCCGCAAATATACATCGTTTCCATGGCTGCTAGGCTGTGCTGCCAACTGGATCCTGCGCGGGACGTCCTTTGTTTACGTCCCGTCGGCGCTGAATCCTGCGGACGACCCTTCTCGGGGCCGCTTGGGACTCTCTCGTCCCCTTCTCCGTCTGCCGTTTCGACCGACCACGGGGCGCACCTCTCTTTACGCGGACTCCCCGTCTGTGCCTTCTCATCTGCTTTTCCGTGTGCACTTCGCTTCACCTCTGCACGTCGCATGGAGACCACCGTGAACGCCCATCAATTCCTGCCCAAGGTCTTACATAAGAGGACTCTTGGACTCTCTGTAATGTCAACGACCGACCTTGAGGCATACTTCAAAGACTGTTTGTTTAAAGACTGGGAGGAGTTGGGGGAGGAGATTAGATTAAATATTAGGAGGCTGTAGGCATAAATTGGTCTGCGCACCAGCACCATGCAACTTTTTCACCTCTGCCTAATCATCTCTTGTTCATGTCCTACTGTTCAAGCCTCCAAGCTGTGCCTTGGGTGGCTTTGGGGCATGGACATTGACCCTTATAAAGAATTTGGAGCTACTGTGGAGTTACTCTCGCCCCCGCCTTCTGACTTCTTTCCTTCAGTACGAGATCTTCTAGATACCGCCTCAGCTTCTCCGGATCGAACCCTGATTCCCCGTTACCCGTTATCACCACGGTAGGCATGTCACCTACCGTCGAAAGTTGATAGGGCAAAGACATTTAGAAATGTTTCCAGAGCTCCCCGTTATCACCACGGTAGGCATGTCACCTACCGTCGAAAGTTGATAGGGCAGTGCTCCAACGCACGTGCACGTAGACACGAGACATTTGAAAGACTCGTCGCCGACTCAAGGCCGACTGCGATCTGTAACTCTAATAAGTGCACCCTTCCCCTGCCTACAAATTATCCAGAGTCACCAAAAGTGCTCCAACGCACGTGCACGTAGACACG\"\n",
    "# Preprocess the input sequence\n",
    "preprocessed_sequence = preprocess_input_sequence(input_sequence, tokenizer, max_length)\n",
    "\n",
    "# Predict the label for the preprocessed sequence\n",
    "predicted_probability = model.predict(preprocessed_sequence)\n",
    "predicted_label_index = np.argmax(predicted_probability)\n",
    "predicted_label = id_to_label[predicted_label_index]\n",
    "\n",
    "print(f\"Input sequence: {input_sequence}\")\n",
    "print(f\"Predicted label: {predicted_label}\")\n"
   ]
  },
  {
   "cell_type": "code",
   "execution_count": null,
   "id": "a5ac11d1",
   "metadata": {},
   "outputs": [],
   "source": [
    "import pandas as pd\n",
    "import numpy as np\n",
    "from Bio import SeqIO\n",
    "from sklearn.utils import shuffle\n",
    "from sklearn.model_selection import train_test_split\n",
    "from tensorflow.keras.preprocessing.sequence import pad_sequences\n",
    "from tensorflow.keras.preprocessing.text import Tokenizer\n",
    "from tensorflow.keras.models import Sequential\n",
    "from tensorflow.keras.layers import Embedding, LSTM, Dense\n",
    "\n",
    "# ... (The previous code for reading sequences and labels)\n",
    "\n",
    "# Split the data into train and test sets\n",
    "train_sequences, test_sequences, train_labels, test_labels = train_test_split(\n",
    "    sequences_padded, all_labels, test_size=0.1, random_state=42\n",
    ")\n",
    "\n",
    "# Convert labels to numerical representation\n",
    "label_to_id = {label: idx for idx, label in enumerate(set(all_labels))}\n",
    "train_labels = [label_to_id[label] for label in train_labels]\n",
    "test_labels = [label_to_id[label] for label in test_labels]\n",
    "\n",
    "# Create the LSTM model\n",
    "vocab_size = len(tokenizer.word_index) + 1\n",
    "embedding_dim = 16\n",
    "lstm_units = 64\n",
    "max_length = 3000\n",
    "\n",
    "model = Sequential()\n",
    "model.add(Embedding(input_dim=vocab_size, output_dim=embedding_dim, input_length=max_length))\n",
    "model.add(LSTM(units=lstm_units))\n",
    "model.add(Dense(len(label_to_id), activation='softmax'))\n",
    "\n",
    "model.compile(loss='sparse_categorical_crossentropy', optimizer='adam', metrics=['accuracy'])\n",
    "\n",
    "# Train the model\n",
    "batch_size = 64\n",
    "epochs = 10\n",
    "model.fit(train_sequences, np.array(train_labels), batch_size=batch_size, epochs=epochs, validation_split=0.2)\n",
    "\n",
    "# Evaluate the model on the test set\n",
    "loss, accuracy = model.evaluate(test_sequences, np.array(test_labels))\n",
    "print(f'Test accuracy: {accuracy:.4f}')\n"
   ]
  },
  {
   "cell_type": "code",
   "execution_count": null,
   "id": "ef2d47ac",
   "metadata": {},
   "outputs": [],
   "source": [
    "import tensorflow as tf"
   ]
  },
  {
   "cell_type": "code",
   "execution_count": 45,
   "id": "d6a7a822",
   "metadata": {},
   "outputs": [
    {
     "name": "stderr",
     "output_type": "stream",
     "text": [
      "C:\\Users\\kk\\AppData\\Local\\Temp\\ipykernel_22104\\4196049725.py:44: VisibleDeprecationWarning: Creating an ndarray from ragged nested sequences (which is a list-or-tuple of lists-or-tuples-or ndarrays with different lengths or shapes) is deprecated. If you meant to do this, you must specify 'dtype=object' when creating the ndarray.\n",
      "  return np.array(onehot_sequence)\n"
     ]
    },
    {
     "name": "stdout",
     "output_type": "stream",
     "text": [
      "Merged DataFrame:\n",
      "                                              Sequence      Label\n",
      "0    [1, 0, 0, 0, 0, 1, 0, 0, 0, 0, 0, 1, 0, 0, 0, ...  sars-cov2\n",
      "1    [0, 0, 0, 1, 0, 0, 0, 1, 0, 0, 1, 0, 0, 0, 0, ...     dengue\n",
      "2    [1, 0, 0, 0, 0, 0, 0, 1, 0, 0, 1, 0, 0, 1, 0, ...  hepatitis\n",
      "3    [0, 0, 1, 0, 0, 0, 1, 0, 1, 0, 0, 0, 1, 0, 0, ...       mers\n",
      "4    [0, 0, 1, 0, 0, 0, 0, 1, 0, 0, 0, 1, 1, 0, 0, ...  hepatitis\n",
      "..                                                 ...        ...\n",
      "495  [0, 0, 1, 0, 0, 1, 0, 0, 0, 0, 0, 1, 0, 0, 0, ...     dengue\n",
      "496  [1, 0, 0, 0, 0, 1, 0, 0, 0, 0, 0, 1, 0, 0, 0, ...  sars-cov2\n",
      "497  [0, 0, 1, 0, 0, 0, 0, 1, 0, 0, 1, 0, 0, 0, 1, ...  influenza\n",
      "498  [1, 0, 0, 0, 0, 0, 1, 0, 0, 0, 0, 1, 0, 0, 0, ...     dengue\n",
      "499  [0, 1, 0, 0, 0, 0, 1, 0, 0, 0, 1, 0, 0, 1, 0, ...  sars-cov2\n",
      "\n",
      "[500 rows x 2 columns]\n",
      "Sequences and labels merged and saved to merged_sequences.csv successfully.\n"
     ]
    }
   ],
   "source": [
    "import pandas as pd\n",
    "import numpy as np\n",
    "from Bio import SeqIO\n",
    "from sklearn.utils import shuffle\n",
    "from tensorflow.keras.preprocessing.sequence import pad_sequences\n",
    "\n",
    "def read_fasta_sequences(file_paths, labels):\n",
    "    all_sequences = []\n",
    "    all_labels = []\n",
    "    for file_path, label in zip(file_paths, labels):\n",
    "        sequences = []\n",
    "        for record in SeqIO.parse(file_path, \"fasta\"):\n",
    "            sequence = str(record.seq)\n",
    "            sequences.append(sequence)\n",
    "        all_sequences.extend(sequences)\n",
    "        all_labels.extend([label] * len(sequences))\n",
    "    return all_sequences, all_labels\n",
    "\n",
    "# Specify the file paths of the FASTA files\n",
    "file_paths = [\"mers1.fasta\", \"mers2.fasta\", \"mers3.fasta\",\"sars cov2 1.fasta\", \"dengue virus1.fasta\", \"influenzaA.fasta\", \"hepatitis B.fasta\"]\n",
    "\n",
    "# Specify the labels for each file\n",
    "labels = [\"mers\", \"mers\", \"mers\",\"sars-cov2\", \"dengue\", \"influenza\", \"hepatitis\"]\n",
    "\n",
    "# Call the function to read the sequences and labels\n",
    "all_sequences, all_labels = read_fasta_sequences(file_paths, labels)\n",
    "\n",
    "# Shuffle the sequences and labels\n",
    "all_sequences, all_labels = shuffle(all_sequences, all_labels)\n",
    "\n",
    "\n",
    "def dna_to_onehot(all_sequences):\n",
    "    mapping = {'A': [1, 0, 0, 0], 'C': [0, 1, 0, 0], 'G': [0, 0, 1, 0], 'T': [0, 0, 0, 1]}\n",
    "    onehot_sequence = []\n",
    "    for sequence in all_sequences:\n",
    "        onehot_seq = []\n",
    "        for base in sequence:\n",
    "            if base in mapping:\n",
    "                onehot_seq.extend(mapping[base])\n",
    "            else:\n",
    "                # Assign a vector of zeros for unknown bases\n",
    "                onehot_seq.extend([0, 0, 0, 0])\n",
    "        onehot_sequence.append(onehot_seq)\n",
    "    return np.array(onehot_sequence)\n",
    "\n",
    "\n",
    "# Convert sequences to one-hot encoding\n",
    "onehot_sequence = dna_to_onehot(all_sequences)\n",
    "\n",
    "# Pad one-hot encoded sequences to a fixed length\n",
    "max_length = 3000  # Maximum sequence length to pad\n",
    "sequences_padded = pad_sequences(onehot_sequence, maxlen=max_length, padding='post', truncating='post')\n",
    "\n",
    "# Merge sequences and labels into a DataFrame\n",
    "df = pd.DataFrame({\"Sequence\": sequences_padded.tolist(), \"Label\": all_labels})\n",
    "\n",
    "# Print the DataFrame\n",
    "print(\"Merged DataFrame:\")\n",
    "print(df)\n",
    "\n",
    "# Specify the output CSV file path\n",
    "dna = \"merged_sequences.csv\"\n",
    "\n",
    "# Save the DataFrame as CSV\n",
    "df.to_csv(dna, index=False)\n",
    "\n",
    "print(f\"Sequences and labels merged and saved to {dna} successfully.\")\n"
   ]
  },
  {
   "cell_type": "code",
   "execution_count": 46,
   "id": "481c2964",
   "metadata": {},
   "outputs": [
    {
     "name": "stdout",
     "output_type": "stream",
     "text": [
      "Epoch 1/10\n",
      "6/6 [==============================] - 1s 111ms/step - loss: 1.4657 - accuracy: 0.4139 - val_loss: 1.2024 - val_accuracy: 0.6778\n",
      "Epoch 2/10\n",
      "6/6 [==============================] - 1s 88ms/step - loss: 0.8262 - accuracy: 0.7528 - val_loss: 0.8302 - val_accuracy: 0.6889\n",
      "Epoch 3/10\n",
      "6/6 [==============================] - 1s 85ms/step - loss: 0.4994 - accuracy: 0.8250 - val_loss: 0.5958 - val_accuracy: 0.7333\n",
      "Epoch 4/10\n",
      "6/6 [==============================] - 1s 86ms/step - loss: 0.2857 - accuracy: 0.9111 - val_loss: 0.5223 - val_accuracy: 0.7667\n",
      "Epoch 5/10\n",
      "6/6 [==============================] - 1s 91ms/step - loss: 0.1828 - accuracy: 0.9639 - val_loss: 0.4717 - val_accuracy: 0.8222\n",
      "Epoch 6/10\n",
      "6/6 [==============================] - 1s 86ms/step - loss: 0.0896 - accuracy: 0.9917 - val_loss: 0.4176 - val_accuracy: 0.8333\n",
      "Epoch 7/10\n",
      "6/6 [==============================] - 1s 86ms/step - loss: 0.0439 - accuracy: 0.9972 - val_loss: 0.5144 - val_accuracy: 0.8111\n",
      "Epoch 8/10\n",
      "6/6 [==============================] - 1s 86ms/step - loss: 0.0171 - accuracy: 1.0000 - val_loss: 0.3773 - val_accuracy: 0.8778\n",
      "Epoch 9/10\n",
      "6/6 [==============================] - 1s 86ms/step - loss: 0.0089 - accuracy: 1.0000 - val_loss: 0.3883 - val_accuracy: 0.8667\n",
      "Epoch 10/10\n",
      "6/6 [==============================] - 0s 83ms/step - loss: 0.0068 - accuracy: 1.0000 - val_loss: 0.4741 - val_accuracy: 0.7889\n",
      "2/2 [==============================] - 0s 9ms/step - loss: 0.1506 - accuracy: 0.9400\n",
      "Test accuracy: 0.9400\n"
     ]
    }
   ],
   "source": [
    "import pandas as pd\n",
    "import numpy as np\n",
    "from Bio import SeqIO\n",
    "from sklearn.utils import shuffle\n",
    "from sklearn.model_selection import train_test_split\n",
    "from tensorflow.keras.preprocessing.sequence import pad_sequences\n",
    "from tensorflow.keras.preprocessing.text import Tokenizer\n",
    "from tensorflow.keras.models import Sequential\n",
    "from tensorflow.keras.layers import Embedding, Conv1D, MaxPooling1D, Flatten, Dense\n",
    "\n",
    "\n",
    "# Split the data into train and test sets\n",
    "train_sequences, test_sequences, train_labels, test_labels = train_test_split(\n",
    "    sequences_padded, all_labels, test_size=0.1, random_state=42\n",
    ")\n",
    "\n",
    "# Convert labels to numerical representation\n",
    "label_to_id = {label: idx for idx, label in enumerate(set(all_labels))}\n",
    "train_labels = [label_to_id[label] for label in train_labels]\n",
    "test_labels = [label_to_id[label] for label in test_labels]\n",
    "\n",
    "# Create the CNN model\n",
    "vocab_size = len(tokenizer.word_index) + 1\n",
    "embedding_dim = 16\n",
    "cnn_filters = 32\n",
    "cnn_kernel_size = 3\n",
    "max_length = 3000\n",
    "\n",
    "model = Sequential()\n",
    "model.add(Embedding(input_dim=vocab_size, output_dim=embedding_dim, input_length=max_length))\n",
    "model.add(Conv1D(filters=cnn_filters, kernel_size=cnn_kernel_size, activation='relu'))\n",
    "model.add(MaxPooling1D())\n",
    "model.add(Flatten())\n",
    "model.add(Dense(64, activation='relu'))\n",
    "model.add(Dense(len(label_to_id), activation='softmax'))\n",
    "\n",
    "model.compile(loss='sparse_categorical_crossentropy', optimizer='adam', metrics=['accuracy'])\n",
    "\n",
    "# Train the model\n",
    "batch_size = 64\n",
    "epochs = 10\n",
    "model.fit(train_sequences, np.array(train_labels), batch_size=batch_size, epochs=epochs, validation_split=0.2)\n",
    "\n",
    "# Evaluate the model on the test set\n",
    "\n",
    "loss, accuracy = model.evaluate(test_sequences, np.array(test_labels))\n",
    "print(f'Test accuracy: {accuracy:.4f}')"
   ]
  }
 ],
 "metadata": {
  "kernelspec": {
   "display_name": "Python 3 (ipykernel)",
   "language": "python",
   "name": "python3"
  },
  "language_info": {
   "codemirror_mode": {
    "name": "ipython",
    "version": 3
   },
   "file_extension": ".py",
   "mimetype": "text/x-python",
   "name": "python",
   "nbconvert_exporter": "python",
   "pygments_lexer": "ipython3",
   "version": "3.10.6"
  }
 },
 "nbformat": 4,
 "nbformat_minor": 5
}
